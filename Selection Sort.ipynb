{
  "nbformat": 4,
  "nbformat_minor": 0,
  "metadata": {
    "colab": {
      "provenance": [],
      "authorship_tag": "ABX9TyMzjzKRRF88cFArrcUd8rCG",
      "include_colab_link": true
    },
    "kernelspec": {
      "name": "python3",
      "display_name": "Python 3"
    },
    "language_info": {
      "name": "python"
    }
  },
  "cells": [
    {
      "cell_type": "markdown",
      "metadata": {
        "id": "view-in-github",
        "colab_type": "text"
      },
      "source": [
        "<a href=\"https://colab.research.google.com/github/Yashomoulik/assignment/blob/main/Selection%20Sort.ipynb\" target=\"_parent\"><img src=\"https://colab.research.google.com/assets/colab-badge.svg\" alt=\"Open In Colab\"/></a>"
      ]
    },
    {
      "cell_type": "code",
      "execution_count": 1,
      "metadata": {
        "colab": {
          "base_uri": "https://localhost:8080/"
        },
        "id": "FQTC26o08FWT",
        "outputId": "7e781203-74c5-4761-9cc7-7c2e1084bdc2"
      },
      "outputs": [
        {
          "output_type": "stream",
          "name": "stdout",
          "text": [
            "[8, 9, 10, 45, 70]\n"
          ]
        }
      ],
      "source": [
        "def Selection_Sort(A):\n",
        "    for i in range(len(A)):\n",
        "        m = i\n",
        "        for j in range(i + 1, len(A)):\n",
        "            if A[j] < A[m]:\n",
        "                m = j\n",
        "        A[i], A[m] = A[m], A[i]\n",
        "    return A\n",
        "Sorted_Array = Selection_Sort([8,45,10,9,70])\n",
        "print(Sorted_Array)"
      ]
    }
  ]
}