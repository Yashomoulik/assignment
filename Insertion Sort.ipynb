{
  "nbformat": 4,
  "nbformat_minor": 0,
  "metadata": {
    "colab": {
      "provenance": [],
      "authorship_tag": "ABX9TyMUt8VlM2eckYrmcFxjOdyT",
      "include_colab_link": true
    },
    "kernelspec": {
      "name": "python3",
      "display_name": "Python 3"
    },
    "language_info": {
      "name": "python"
    }
  },
  "cells": [
    {
      "cell_type": "markdown",
      "metadata": {
        "id": "view-in-github",
        "colab_type": "text"
      },
      "source": [
        "<a href=\"https://colab.research.google.com/github/Yashomoulik/assignment/blob/main/Insertion%20Sort.ipynb\" target=\"_parent\"><img src=\"https://colab.research.google.com/assets/colab-badge.svg\" alt=\"Open In Colab\"/></a>"
      ]
    },
    {
      "cell_type": "code",
      "execution_count": 1,
      "metadata": {
        "colab": {
          "base_uri": "https://localhost:8080/"
        },
        "id": "O0IWLYDl7mnF",
        "outputId": "67e000b1-bced-4386-969c-a90f0a90bed4"
      },
      "outputs": [
        {
          "output_type": "stream",
          "name": "stdout",
          "text": [
            "[8, 9, 10, 45, 70]\n"
          ]
        }
      ],
      "source": [
        "def Insertion_Sort(A):\n",
        "    for i in range(1, len(A)):\n",
        "        x = A[i]\n",
        "        j = i - 1\n",
        "        while j >= 0 and x < A[j]:\n",
        "            A[j + 1] = A[j]\n",
        "            j -= 1\n",
        "            A[j + 1] = x\n",
        "    return A\n",
        "Sorted_Array = Insertion_Sort([8,45,10,9,70])\n",
        "print(Sorted_Array)"
      ]
    }
  ]
}