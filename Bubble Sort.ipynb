{
  "nbformat": 4,
  "nbformat_minor": 0,
  "metadata": {
    "colab": {
      "provenance": [],
      "authorship_tag": "ABX9TyOcBWE7PcS4qhLIPOyciykw",
      "include_colab_link": true
    },
    "kernelspec": {
      "name": "python3",
      "display_name": "Python 3"
    },
    "language_info": {
      "name": "python"
    }
  },
  "cells": [
    {
      "cell_type": "markdown",
      "metadata": {
        "id": "view-in-github",
        "colab_type": "text"
      },
      "source": [
        "<a href=\"https://colab.research.google.com/github/Yashomoulik/assignment/blob/main/Bubble%20Sort.ipynb\" target=\"_parent\"><img src=\"https://colab.research.google.com/assets/colab-badge.svg\" alt=\"Open In Colab\"/></a>"
      ]
    },
    {
      "cell_type": "code",
      "execution_count": 1,
      "metadata": {
        "colab": {
          "base_uri": "https://localhost:8080/"
        },
        "id": "Hp6bDioN8bqf",
        "outputId": "7a739785-e58d-4c77-a1d1-f6e4ca3c2890"
      },
      "outputs": [
        {
          "output_type": "stream",
          "name": "stdout",
          "text": [
            "[8, 9, 10, 45, 70]\n"
          ]
        }
      ],
      "source": [
        "def Bubble_Sort(A):\n",
        "    for i in range(len(A)):\n",
        "        swapped = False\n",
        "        for j in range(0, len(A) - i - 1):\n",
        "            if A[j] > A[j + 1]:\n",
        "                A[j], A[j + 1] = A[j + 1], A[j]\n",
        "                swapped = True\n",
        "        if not swapped:\n",
        "            break\n",
        "    return A\n",
        "Sorted_Array = Bubble_Sort([8,45,10,9,70])\n",
        "print(Sorted_Array)"
      ]
    }
  ]
}